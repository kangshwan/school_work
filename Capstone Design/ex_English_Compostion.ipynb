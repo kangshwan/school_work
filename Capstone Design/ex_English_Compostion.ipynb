{
 "cells": [
  {
   "cell_type": "markdown",
   "metadata": {},
   "source": [
    "## English Composition\n",
    "\n",
    "쇼핑 바구니에 쇼핑한 과일 종류별로 몇 개 있는지 묘사하는 완전한 영어 문장을 완성하여 return하는 함수 `sentence(basket)`을 작성하라. \n",
    "\n",
    "- 단수, 복수를 구분하여야 하고, 단수일 경우 'a'와 'an'을 영문법에 맞게 구분해야 한다. \n",
    "- 갯수가 4개 이상이면 'many'로 표현하기로 한다.\n",
    "- 편의상, 사전식 순서를 따라 과일을 열거하기로 한다. (apple이 banana 보다 먼저)"
   ]
  },
  {
   "cell_type": "code",
   "execution_count": 1,
   "metadata": {},
   "outputs": [],
   "source": [
    "import sys\n",
    "\n",
    "def test(did_pass):\n",
    "    \"\"\"  Print the result of a test.  \"\"\"\n",
    "    linenum = sys._getframe(1).f_lineno   # Get the caller's line number.\n",
    "    if did_pass:\n",
    "        msg = \"Test at line {0} ok.\".format(linenum)\n",
    "    else:\n",
    "        msg = (\"Test at line {0} FAILED.\".format(linenum))\n",
    "    print(msg)"
   ]
  },
  {
   "cell_type": "code",
   "execution_count": 37,
   "metadata": {},
   "outputs": [
    {
     "name": "stdout",
     "output_type": "stream",
     "text": [
      "Test at line 25 ok.\n",
      "Test at line 27 ok.\n"
     ]
    }
   ],
   "source": [
    "def sentence(basket):\n",
    "    fruit_cnt={}\n",
    "    answer = []\n",
    "    basket.sort()\n",
    "    for kind in basket:\n",
    "        fruit_cnt.setdefault(kind, 0)\n",
    "        fruit_cnt[kind] += 1\n",
    "    for fruit in fruit_cnt:\n",
    "        if fruit_cnt[fruit] >= 4:\n",
    "            answer.append(f'many {fruit}s')\n",
    "        elif fruit_cnt[fruit] == 3:\n",
    "            answer.append(f'three {fruit}s')\n",
    "        elif fruit_cnt[fruit] == 2:\n",
    "            answer.append(f'two {fruit}s')\n",
    "        else:\n",
    "            if fruit[0] in ['a','e','i','o','u']:\n",
    "                answer.append(f'an {fruit}')\n",
    "            else:\n",
    "                answer.append(f'a {fruit}')\n",
    "    \n",
    "    return 'There are '+', '.join(answer[:-1])+', '+'and '+ answer[-1] + ' in the basket.'\n",
    "    \n",
    "fruits = ['orange', 'pear', 'pear', 'apple', 'orange', 'banana']\n",
    "test(sentence(fruits) == 'There are an apple, a banana, two oranges, and two pears in the basket.')\n",
    "many_oranges = ['apple', 'orange', 'orange', 'orange','pear', 'orange']\n",
    "test(sentence(many_oranges) == 'There are an apple, many oranges, and a pear in the basket.')"
   ]
  },
  {
   "cell_type": "markdown",
   "metadata": {},
   "source": [
    "Hint:\n",
    "> - 종류 별로 count하자: dict 이용\n",
    "> - 먼저 과일들의 list를 만들자: ['an apple', 'a banana', 'two oranges', ... ]\n",
    "> - join method로 콤파를 삽입한다."
   ]
  }
 ],
 "metadata": {
  "kernelspec": {
   "display_name": "Python 3",
   "language": "python",
   "name": "python3"
  },
  "language_info": {
   "codemirror_mode": {
    "name": "ipython",
    "version": 3
   },
   "file_extension": ".py",
   "mimetype": "text/x-python",
   "name": "python",
   "nbconvert_exporter": "python",
   "pygments_lexer": "ipython3",
   "version": "3.7.6"
  }
 },
 "nbformat": 4,
 "nbformat_minor": 2
}
