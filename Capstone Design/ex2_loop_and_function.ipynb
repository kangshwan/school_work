{
 "cells": [
  {
   "cell_type": "markdown",
   "metadata": {},
   "source": [
    "# Ex-2. Python loop and function"
   ]
  },
  {
   "cell_type": "markdown",
   "metadata": {},
   "source": [
    "## 스스로 tester 작성하기: 예제\n",
    "다음과 같이 test function이 주어져 있다:"
   ]
  },
  {
   "cell_type": "code",
   "execution_count": 1,
   "metadata": {},
   "outputs": [],
   "source": [
    "import sys\n",
    "\n",
    "def test(did_pass):\n",
    "    \"\"\"  Print the result of a test.  \"\"\"\n",
    "    linenum = sys._getframe(1).f_lineno   # Get the caller's line number.\n",
    "    if did_pass:\n",
    "        msg = \"Test at line {0} ok.\".format(linenum)\n",
    "    else:\n",
    "        msg = (\"Test at line {0} FAILED.\".format(linenum))\n",
    "    print(msg)"
   ]
  },
  {
   "cell_type": "markdown",
   "metadata": {},
   "source": [
    "#### Q1. 절대값을 구하는 function `ablsolute_value`는 bug을 가지고 있다. 이를 완성하라.\n",
    "모든 test case가 통과될 때 까지 code를 수정한다."
   ]
  },
  {
   "cell_type": "code",
   "execution_count": 2,
   "metadata": {},
   "outputs": [
    {
     "name": "stdout",
     "output_type": "stream",
     "text": [
      "Test at line 8 ok.\n",
      "Test at line 9 ok.\n",
      "Test at line 10 ok.\n",
      "Test at line 11 ok.\n",
      "Test at line 12 ok.\n"
     ]
    }
   ],
   "source": [
    "def absolute_value(n):   # Buggy version\n",
    "    \"\"\" Compute the absolute value of n \"\"\"\n",
    "    if n < 0:\n",
    "        return n*(-1)\n",
    "    elif n >= 0:\n",
    "        return n\n",
    "    \n",
    "test(absolute_value(17) == 17)\n",
    "test(absolute_value(-17) == 17)\n",
    "test(absolute_value(0) == 0)\n",
    "test(absolute_value(3.14) == 3.14)\n",
    "test(absolute_value(-3.14) == 3.14)"
   ]
  },
  {
   "cell_type": "markdown",
   "metadata": {},
   "source": [
    "## 다음 물음에 답하여 code를 작성하고, 함께 test case들도 작성한다."
   ]
  },
  {
   "cell_type": "markdown",
   "metadata": {},
   "source": [
    "#### Q2. 정수를 매개 변수로 받아 각 자리를 제곱한 뒤 모두 더하는 `sum_of_digit_square` function을 작성하라. \n",
    "Parameter: 789 -> Output: 49+64+81=194"
   ]
  },
  {
   "cell_type": "code",
   "execution_count": 3,
   "metadata": {
    "scrolled": true
   },
   "outputs": [
    {
     "name": "stdout",
     "output_type": "stream",
     "text": [
      "Test at line 10 ok.\n",
      "Test at line 11 ok.\n",
      "Test at line 12 ok.\n",
      "Test at line 13 ok.\n"
     ]
    }
   ],
   "source": [
    "def sum_of_digit_square(n):\n",
    "    q = absolute_value(n)\n",
    "    r, r_val = 0, 0\n",
    "    while(q != 0):\n",
    "        r = q%10\n",
    "        q = q//10\n",
    "        r_val = r_val + r**2\n",
    "    return r_val\n",
    "\n",
    "test(sum_of_digit_square(789) == 7**2 + 8**2 + 9**2)\n",
    "test(sum_of_digit_square(-123) == 1**2 + 2**2 + 3**2 )\n",
    "test(sum_of_digit_square(133577) == 1**2 + 3**2 + 3**2 + 5**2 + 7**2 + 7**2)\n",
    "test(sum_of_digit_square(-24589) == 2**2 + 4**2 + 5**2 + 8**2 + 9**2)"
   ]
  },
  {
   "cell_type": "markdown",
   "metadata": {},
   "source": [
    "#### Q3. 2이상의 자연수를 매개 변수로 받아 소수인지 검사하는 `is_prime` function을 작성하라."
   ]
  },
  {
   "cell_type": "code",
   "execution_count": 4,
   "metadata": {},
   "outputs": [
    {
     "name": "stdout",
     "output_type": "stream",
     "text": [
      "Test at line 7 ok.\n",
      "Test at line 8 ok.\n",
      "Test at line 9 ok.\n",
      "Test at line 10 ok.\n",
      "Test at line 11 ok.\n"
     ]
    }
   ],
   "source": [
    "def is_prime(n):\n",
    "    for check in range (2, n):\n",
    "        if(n%check == 0):\n",
    "            return False\n",
    "    return True\n",
    "    \n",
    "test(is_prime(2) == True)\n",
    "test(is_prime(5) == True)\n",
    "test(is_prime(12) == False)\n",
    "test(is_prime(13) == True)\n",
    "test(is_prime(1033) == True)"
   ]
  },
  {
   "cell_type": "markdown",
   "metadata": {},
   "source": [
    "#### Q4. 2이상의 자연수를 인자로 받아, 아래와 같은 문양을 출력하는 `star_pattern` void function을 작성하라.\n",
    "void function이란 결과를 return하지 않는 함수다. "
   ]
  },
  {
   "cell_type": "markdown",
   "metadata": {},
   "source": [
    "input: 5일 떄, 다음을 출력\n",
    "```python\n",
    "* \n",
    "* * \n",
    "* * * \n",
    "* * * * \n",
    "* * * * * \n",
    "* * * * \n",
    "* * * \n",
    "* * \n",
    "*\n",
    "```"
   ]
  },
  {
   "cell_type": "code",
   "execution_count": 5,
   "metadata": {},
   "outputs": [
    {
     "name": "stdout",
     "output_type": "stream",
     "text": [
      "*\n",
      "**\n",
      "***\n",
      "****\n",
      "*****\n",
      "****\n",
      "***\n",
      "**\n",
      "*\n",
      "*\n",
      "**\n",
      "***\n",
      "****\n",
      "*****\n",
      "******\n",
      "*****\n",
      "****\n",
      "***\n",
      "**\n",
      "*\n"
     ]
    }
   ],
   "source": [
    "def star_pattern(n):\n",
    "    for i in range(1,n+1):\n",
    "        print('*'*i)\n",
    "    for i in range(1,n):\n",
    "        print('*'*(n-i))\n",
    "        \n",
    "star_pattern(5)\n",
    "star_pattern(6)"
   ]
  },
  {
   "cell_type": "markdown",
   "metadata": {},
   "source": [
    "#### Q5. 자연수를 매개 변수로 받아 가장 가까운 완전 제곱수를 출력하는 `perfect_square` function을 작성하라."
   ]
  },
  {
   "cell_type": "code",
   "execution_count": 6,
   "metadata": {},
   "outputs": [
    {
     "name": "stdout",
     "output_type": "stream",
     "text": [
      "Test at line 10 ok.\n",
      "Test at line 11 ok.\n",
      "Test at line 12 ok.\n",
      "Test at line 13 ok.\n"
     ]
    }
   ],
   "source": [
    "def perfect_square(n):\n",
    "    root = (int)(n**0.5)\n",
    "    s1 = root**2 -n\n",
    "    s2 = (root+1)**2 -n\n",
    "    if abs(s1)>=abs(s2):\n",
    "        return root+1\n",
    "    elif abs(s1)<abs(s2):\n",
    "        return root\n",
    "    \n",
    "test(perfect_square(15) == 4)\n",
    "test(perfect_square(31) == 6)\n",
    "test(perfect_square(41) == 6)\n",
    "test(perfect_square(99) == 10)"
   ]
  },
  {
   "cell_type": "markdown",
   "metadata": {},
   "source": [
    "#### Q6. 자연수를 매개 변수로 받아 각 자리의 수를 더하여 새로운 수를 구하고, 이를 반복하여 한 자리 수를 만들어 출력하는 `unit_place_value` function을 작성하라.\n",
    "(e.g., 75 -> 7+5=12 -> 1+2=3)."
   ]
  },
  {
   "cell_type": "code",
   "execution_count": 7,
   "metadata": {
    "scrolled": true
   },
   "outputs": [
    {
     "name": "stdout",
     "output_type": "stream",
     "text": [
      "Test at line 13 ok.\n",
      "Test at line 14 ok.\n",
      "Test at line 15 ok.\n",
      "Test at line 16 ok.\n"
     ]
    }
   ],
   "source": [
    "def unit_place_value(n):\n",
    "    calc = q = absolute_value(n)\n",
    "    r, r_val = 0, 0\n",
    "    while(q != 0):\n",
    "        r = q%10\n",
    "        q = q//10\n",
    "        r_val = r_val + r\n",
    "    if r_val > 10:\n",
    "        return unit_place_value(r_val)\n",
    "    else:\n",
    "        return r_val\n",
    "    \n",
    "test(unit_place_value(75) == 3)\n",
    "test(unit_place_value(3942) == 9)\n",
    "test(unit_place_value(32) == 5)\n",
    "test(unit_place_value(9) == 9)"
   ]
  },
  {
   "cell_type": "markdown",
   "metadata": {},
   "source": [
    "#### Q7. 자연수를 매개 변수로 받아 해당 숫자까지의 팩토리얼을 계산하는 `recursive_factorial` recursive function을 작성하라."
   ]
  },
  {
   "cell_type": "code",
   "execution_count": 8,
   "metadata": {},
   "outputs": [
    {
     "name": "stdout",
     "output_type": "stream",
     "text": [
      "Test at line 8 ok.\n",
      "Test at line 9 ok.\n",
      "Test at line 10 ok.\n",
      "Test at line 11 ok.\n"
     ]
    }
   ],
   "source": [
    "def recursive_factorial(n):\n",
    "    if n == 1:\n",
    "        return 1\n",
    "    else:\n",
    "        return n*recursive_factorial(n-1)\n",
    "    \n",
    "import math\n",
    "test(recursive_factorial(5) == math.factorial(5))\n",
    "test(recursive_factorial(8) == math.factorial(8))\n",
    "test(recursive_factorial(2) == math.factorial(2))\n",
    "test(recursive_factorial(10) == math.factorial(10))"
   ]
  },
  {
   "cell_type": "markdown",
   "metadata": {},
   "source": [
    "#### Q8. 자연수를 매개 변수로 받아 해당 숫자까지의 팩토리얼을 계산하는 `non_recursive_factorial` non recursive function을 작성하라."
   ]
  },
  {
   "cell_type": "code",
   "execution_count": 9,
   "metadata": {
    "scrolled": true
   },
   "outputs": [
    {
     "name": "stdout",
     "output_type": "stream",
     "text": [
      "Test at line 8 ok.\n",
      "Test at line 9 ok.\n",
      "Test at line 10 ok.\n",
      "Test at line 11 ok.\n"
     ]
    }
   ],
   "source": [
    "def non_recursive_factorial(n):\n",
    "    r_val = 1\n",
    "    for i in range(1,n+1):\n",
    "        r_val = r_val*i\n",
    "    return r_val\n",
    "    \n",
    "import math\n",
    "test(non_recursive_factorial(5) == math.factorial(5))\n",
    "test(non_recursive_factorial(8) == math.factorial(8))\n",
    "test(non_recursive_factorial(2) == math.factorial(2))\n",
    "test(non_recursive_factorial(10) == math.factorial(10))"
   ]
  },
  {
   "cell_type": "markdown",
   "metadata": {},
   "source": [
    "#### Q9. 두 자연수를 매개 변수로 받아 최대공약수를 구하는 `my_gcd` function을 작성하라."
   ]
  },
  {
   "cell_type": "code",
   "execution_count": 10,
   "metadata": {},
   "outputs": [
    {
     "name": "stdout",
     "output_type": "stream",
     "text": [
      "Test at line 9 ok.\n",
      "Test at line 10 ok.\n",
      "Test at line 11 ok.\n",
      "Test at line 12 ok.\n"
     ]
    }
   ],
   "source": [
    "def my_gcd(a, b):\n",
    "    gcd = 0\n",
    "    for i in range(1, max(abs(a),abs(b))):\n",
    "        if a%i == 0 and b%i == 0:\n",
    "            gcd = i\n",
    "    return gcd\n",
    "\n",
    "import math\n",
    "test(my_gcd(12, 16) == math.gcd(12,16))\n",
    "test(my_gcd(16, 12) == math.gcd(16, 12))\n",
    "test(my_gcd(9, 6) == math.gcd(9, 6))\n",
    "test(my_gcd(-12, -38) == math.gcd(-12, -38))"
   ]
  },
  {
   "cell_type": "markdown",
   "metadata": {},
   "source": [
    "#### Q10. 임의의 정수가 들어있는 set을 input으로 입력받아, 가장 큰 세 숫자만을 가지고 있는 set을 반환하는 `max_of_three` function을 작성하라."
   ]
  },
  {
   "cell_type": "code",
   "execution_count": 11,
   "metadata": {},
   "outputs": [
    {
     "name": "stdout",
     "output_type": "stream",
     "text": [
      "Test at line 7 ok.\n",
      "Test at line 8 ok.\n"
     ]
    }
   ],
   "source": [
    "def max_of_three(l):\n",
    "    s_list = sorted(l)\n",
    "    r_set = set()\n",
    "    for i in range(1,4):\n",
    "        r_set.add(s_list[-i])\n",
    "    return r_set\n",
    "test(max_of_three({1, 2, 3, 4, 5}) == {3, 4, 5})\n",
    "test(max_of_three({-100, 42, 32, -4, -1}) == {42, 32, -1})"
   ]
  },
  {
   "cell_type": "markdown",
   "metadata": {},
   "source": [
    "#### Q11. 임의의 정수가 들어있는 리스트를 input으로 입력받아, 전부 곱한 결과를 반환하는 `mult_of_list` function을 작성하라."
   ]
  },
  {
   "cell_type": "code",
   "execution_count": 12,
   "metadata": {},
   "outputs": [
    {
     "name": "stdout",
     "output_type": "stream",
     "text": [
      "Test at line 6 ok.\n",
      "Test at line 7 ok.\n",
      "Test at line 8 ok.\n"
     ]
    }
   ],
   "source": [
    "def mult_of_list(l):\n",
    "    r_val = 1\n",
    "    for i in range(len(l)):\n",
    "        r_val = r_val*l[i]\n",
    "    return r_val\n",
    "test(mult_of_list([1, 2, 3, 4]) == 24)\n",
    "test(mult_of_list([1, 20, -3, 4]) == -240)\n",
    "test(mult_of_list([1, 0, -33, 9999]) == 0)"
   ]
  },
  {
   "cell_type": "markdown",
   "metadata": {},
   "source": [
    "#### Q12. 임의의 정수가 들어있는 리스트를 input으로 입력받아, 그 중 짝수만을 가진 리스트를 반환하는 `even_filter` function을 작성하라."
   ]
  },
  {
   "cell_type": "code",
   "execution_count": 13,
   "metadata": {},
   "outputs": [
    {
     "name": "stdout",
     "output_type": "stream",
     "text": [
      "Test at line 7 ok.\n",
      "Test at line 8 ok.\n"
     ]
    }
   ],
   "source": [
    "def even_filter(l):\n",
    "    r_list = []\n",
    "    for i in range(len(l)):\n",
    "        if l[i]%2 == 0:\n",
    "            r_list.append(l[i])\n",
    "    return r_list\n",
    "test(even_filter([1, 2, 3, 4, 5, 6, 7, 8, 9]) == [2, 4, 6, 8])\n",
    "test(even_filter([1, 3, 5, 7, 9]) == [])"
   ]
  }
 ],
 "metadata": {
  "kernelspec": {
   "display_name": "Python 3",
   "language": "python",
   "name": "python3"
  },
  "language_info": {
   "codemirror_mode": {
    "name": "ipython",
    "version": 3
   },
   "file_extension": ".py",
   "mimetype": "text/x-python",
   "name": "python",
   "nbconvert_exporter": "python",
   "pygments_lexer": "ipython3",
   "version": "3.7.6"
  }
 },
 "nbformat": 4,
 "nbformat_minor": 2
}
