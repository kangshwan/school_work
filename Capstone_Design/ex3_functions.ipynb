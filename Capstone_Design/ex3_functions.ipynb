{
 "cells": [
  {
   "cell_type": "markdown",
   "metadata": {},
   "source": [
    "# Ex-3. Functions"
   ]
  },
  {
   "cell_type": "markdown",
   "metadata": {},
   "source": [
    "## 1.\tArgument-matching examples. \n",
    "First, define the following six functions (either interactively or in a module file that can be imported):"
   ]
  },
  {
   "cell_type": "code",
   "execution_count": 1,
   "metadata": {},
   "outputs": [],
   "source": [
    "def f1(a, b): print(a, b)           # Normal args \n",
    "def f2(a, *b): print(a, b)          # Positional var args\n",
    "def f3(a, **b): print(a, b)         # Keyword var args\n",
    "def f4(a, *b, **c): print(a, b, c)  # Mixed modes\n",
    "def f5(a, b=2, c=3): print(a, b, c) # Default values\n",
    "def f6(a, b=2, *c): print(a, b, c)  # Defaults and positional var args"
   ]
  },
  {
   "cell_type": "markdown",
   "metadata": {},
   "source": [
    "Now, test the following calls interactively.."
   ]
  },
  {
   "cell_type": "code",
   "execution_count": 2,
   "metadata": {},
   "outputs": [
    {
     "name": "stdout",
     "output_type": "stream",
     "text": [
      "1 2\n",
      "1 2\n"
     ]
    }
   ],
   "source": [
    "# case a)\n",
    "f1(1, 2) \n",
    "f1(b=2, a=1)"
   ]
  },
  {
   "cell_type": "code",
   "execution_count": 3,
   "metadata": {},
   "outputs": [
    {
     "name": "stdout",
     "output_type": "stream",
     "text": [
      "1 (2, 3)\n",
      "1 {'x': 2, 'y': 3}\n",
      "1 (2, 3) {'x': 2, 'y': 3}\n"
     ]
    }
   ],
   "source": [
    "# case b)\n",
    "f2(1, 2, 3) \n",
    "f3(1, x=2, y=3) \n",
    "f4(1, 2, 3, x=2, y=3)"
   ]
  },
  {
   "cell_type": "code",
   "execution_count": 4,
   "metadata": {},
   "outputs": [
    {
     "name": "stdout",
     "output_type": "stream",
     "text": [
      "1 2 3\n",
      "1 4 3\n"
     ]
    }
   ],
   "source": [
    "# case c)\n",
    "f5(1) \n",
    "f5(1, 4)"
   ]
  },
  {
   "cell_type": "code",
   "execution_count": 5,
   "metadata": {},
   "outputs": [
    {
     "name": "stdout",
     "output_type": "stream",
     "text": [
      "1 2 ()\n",
      "1 3 (4,)\n"
     ]
    }
   ],
   "source": [
    "# case d)\n",
    "f6(1) \n",
    "f6(1, 3, 4)"
   ]
  },
  {
   "cell_type": "markdown",
   "metadata": {},
   "source": [
    "Try to explain each result."
   ]
  },
  {
   "cell_type": "markdown",
   "metadata": {},
   "source": [
    "Your answers here.\n",
    "\n",
    "Case a)  \n",
    "f1(1, 2) is set arguement in order of function.  \n",
    "a = 1, b = 2  \n",
    "f1(b=2, a=1) is set argument while call the function.  \n",
    "so set parameter a = 1, b = 2  \n",
    "\n",
    "Case b)  \n",
    "f2(1, 2, 3) is set argument in order of function.   \n",
    "a = 1, \\*b = tuple (2, 3)  \n",
    "\n",
    "f3(1, x=2, y=3) is set argument in order of function.   \n",
    "a = 1, \\*\\*b = dict {'x'=2, 'y'=3}  \n",
    "\n",
    "f4(1, 2, 3, x=2, y=3) is set argument in order of function.  \n",
    "a = 1, \\*b = tuple(2, 3), \\*\\*c = dict {'x'=2, 'y'=3}  \n",
    "\n",
    "Case c)  \n",
    "f5(1) is set argument in order of function and unfilled argument(b, c) is set default.  \n",
    "a = 1, b = 2 and c = 3 by the default.  \n",
    "\n",
    "f5(1, 4) is set argument in order of function and unfilled argument(c) is set default.  \n",
    "a = 1, b = 4, and c = 3 by the default.  \n",
    "\n",
    "Case d)  \n",
    "f6(1) is set argument in order of function and unfilled argument(b, c) is set default.  \n",
    "a = 1, b = 2, c = ()  \n",
    "\n",
    "f6(1, 3, 4) is set argument in order of function.  \n",
    "a = 1, b = 3, c = (4,)  \n"
   ]
  },
  {
   "cell_type": "markdown",
   "metadata": {},
   "source": [
    "## 2.\tArguments. \n",
    "Write a function called ```adder``` in a Python module file. The function should accept two arguments and return the sum (or concatenation) of the two. Then, call the ```adder``` function with a variety of object types (two strings, two lists, two floating points)."
   ]
  },
  {
   "cell_type": "code",
   "execution_count": 6,
   "metadata": {},
   "outputs": [
    {
     "name": "stdout",
     "output_type": "stream",
     "text": [
      "hello world\n",
      "good day commander\n",
      "[1, 3, 2, 4]\n",
      "[2, 5, 7, 8, 1, 3, 4, 9]\n",
      "8.5\n",
      "106.2347\n"
     ]
    }
   ],
   "source": [
    "def adder(arg1, arg2):\n",
    "# Your code here\n",
    "    return arg1+arg2\n",
    "\n",
    "# test code here\n",
    "print(adder('hello',' world'))\n",
    "print(adder('good day',' commander'))\n",
    "print(adder([1,3], [2,4]))\n",
    "print(adder([2,5,7,8],[1,3,4,9]))\n",
    "print(adder(3.1, 5.4))\n",
    "print(adder(23.789, 82.4457))"
   ]
  },
  {
   "cell_type": "markdown",
   "metadata": {},
   "source": [
    "## 3.\tVariable arguments. \n",
    "Generalize the adder function you wrote in the above to compute the sum of an arbitrary number of arguments, and change the calls to pass more or fewer than two arguments. \n",
    "\n",
    "Hints: a slice such as ```S[:0]``` returns an empty sequence of the same type as S, and the type builtin function can test types "
   ]
  },
  {
   "cell_type": "code",
   "execution_count": 7,
   "metadata": {},
   "outputs": [
    {
     "name": "stdout",
     "output_type": "stream",
     "text": [
      "[1, 3]\n",
      "[2, 5, 7, 8, 1, 3, 4, 9]\n",
      "[1, 3, 5, 7, 9]\n",
      "hello world!\n",
      "for the king\n",
      "succeeding you, father\n",
      "8.5\n",
      "106.2347\n"
     ]
    }
   ],
   "source": [
    "def adder(*arg1):\n",
    "    r_val = arg1[0]\n",
    "    for i in range(1,len(arg1)):\n",
    "        r_val = r_val +arg1[i]\n",
    "    return r_val\n",
    "print(adder([1,3]))\n",
    "print(adder([2,5,7,8],[1,3,4,9]))\n",
    "print(adder([1],[3],[5],[7],[9]))\n",
    "print(adder('hello', ' world!'))\n",
    "print(adder('for the king'))\n",
    "print(adder('succeeding', ' you', ',', ' father'))\n",
    "print(adder(3.1, 5.4))\n",
    "print(adder(23.789, 82.4457))"
   ]
  },
  {
   "cell_type": "markdown",
   "metadata": {},
   "source": [
    "What happens if you pass in arguments of different types? "
   ]
  },
  {
   "cell_type": "code",
   "execution_count": 8,
   "metadata": {},
   "outputs": [
    {
     "ename": "TypeError",
     "evalue": "unsupported operand type(s) for +: 'int' and 'list'",
     "output_type": "error",
     "traceback": [
      "\u001b[1;31m---------------------------------------------------------------------------\u001b[0m",
      "\u001b[1;31mTypeError\u001b[0m                                 Traceback (most recent call last)",
      "\u001b[1;32m<ipython-input-8-6b1332136fb2>\u001b[0m in \u001b[0;36m<module>\u001b[1;34m\u001b[0m\n\u001b[1;32m----> 1\u001b[1;33m \u001b[0mprint\u001b[0m\u001b[1;33m(\u001b[0m\u001b[0madder\u001b[0m\u001b[1;33m(\u001b[0m\u001b[1;36m2\u001b[0m\u001b[1;33m,\u001b[0m \u001b[1;33m[\u001b[0m\u001b[1;36m1\u001b[0m\u001b[1;33m,\u001b[0m\u001b[1;36m2\u001b[0m\u001b[1;33m,\u001b[0m\u001b[1;36m3\u001b[0m\u001b[1;33m]\u001b[0m\u001b[1;33m)\u001b[0m\u001b[1;33m)\u001b[0m\u001b[1;33m\u001b[0m\u001b[1;33m\u001b[0m\u001b[0m\n\u001b[0m\u001b[0;32m      2\u001b[0m \u001b[1;34m\"\"\"Occurs concatenate error or sum error because of different type.\"\"\"\u001b[0m\u001b[1;33m\u001b[0m\u001b[1;33m\u001b[0m\u001b[0m\n",
      "\u001b[1;32m<ipython-input-7-4ef3ac6508a6>\u001b[0m in \u001b[0;36madder\u001b[1;34m(*arg1)\u001b[0m\n\u001b[0;32m      2\u001b[0m     \u001b[0mr_val\u001b[0m \u001b[1;33m=\u001b[0m \u001b[0marg1\u001b[0m\u001b[1;33m[\u001b[0m\u001b[1;36m0\u001b[0m\u001b[1;33m]\u001b[0m\u001b[1;33m\u001b[0m\u001b[1;33m\u001b[0m\u001b[0m\n\u001b[0;32m      3\u001b[0m     \u001b[1;32mfor\u001b[0m \u001b[0mi\u001b[0m \u001b[1;32min\u001b[0m \u001b[0mrange\u001b[0m\u001b[1;33m(\u001b[0m\u001b[1;36m1\u001b[0m\u001b[1;33m,\u001b[0m\u001b[0mlen\u001b[0m\u001b[1;33m(\u001b[0m\u001b[0marg1\u001b[0m\u001b[1;33m)\u001b[0m\u001b[1;33m)\u001b[0m\u001b[1;33m:\u001b[0m\u001b[1;33m\u001b[0m\u001b[1;33m\u001b[0m\u001b[0m\n\u001b[1;32m----> 4\u001b[1;33m         \u001b[0mr_val\u001b[0m \u001b[1;33m=\u001b[0m \u001b[0mr_val\u001b[0m \u001b[1;33m+\u001b[0m\u001b[0marg1\u001b[0m\u001b[1;33m[\u001b[0m\u001b[0mi\u001b[0m\u001b[1;33m]\u001b[0m\u001b[1;33m\u001b[0m\u001b[1;33m\u001b[0m\u001b[0m\n\u001b[0m\u001b[0;32m      5\u001b[0m     \u001b[1;32mreturn\u001b[0m \u001b[0mr_val\u001b[0m\u001b[1;33m\u001b[0m\u001b[1;33m\u001b[0m\u001b[0m\n\u001b[0;32m      6\u001b[0m \u001b[0mprint\u001b[0m\u001b[1;33m(\u001b[0m\u001b[0madder\u001b[0m\u001b[1;33m(\u001b[0m\u001b[1;33m[\u001b[0m\u001b[1;36m1\u001b[0m\u001b[1;33m,\u001b[0m\u001b[1;36m3\u001b[0m\u001b[1;33m]\u001b[0m\u001b[1;33m)\u001b[0m\u001b[1;33m)\u001b[0m\u001b[1;33m\u001b[0m\u001b[1;33m\u001b[0m\u001b[0m\n",
      "\u001b[1;31mTypeError\u001b[0m: unsupported operand type(s) for +: 'int' and 'list'"
     ]
    }
   ],
   "source": [
    "print(adder(2, [1,2,3]))\n",
    "\"\"\"Occurs concatenate error or sum error because of different type.\"\"\""
   ]
  },
  {
   "cell_type": "markdown",
   "metadata": {},
   "source": [
    "What about passing in dictionaries?"
   ]
  },
  {
   "cell_type": "code",
   "execution_count": 9,
   "metadata": {},
   "outputs": [
    {
     "ename": "NameError",
     "evalue": "name 'dict_p' is not defined",
     "output_type": "error",
     "traceback": [
      "\u001b[1;31m---------------------------------------------------------------------------\u001b[0m",
      "\u001b[1;31mNameError\u001b[0m                                 Traceback (most recent call last)",
      "\u001b[1;32m<ipython-input-9-aac3fb655fae>\u001b[0m in \u001b[0;36m<module>\u001b[1;34m\u001b[0m\n\u001b[0;32m      4\u001b[0m \u001b[0mdict_p1\u001b[0m \u001b[1;33m=\u001b[0m \u001b[0mdict\u001b[0m\u001b[1;33m(\u001b[0m\u001b[0mkey1\u001b[0m \u001b[1;33m=\u001b[0m \u001b[1;34m\"1\"\u001b[0m\u001b[1;33m,\u001b[0m \u001b[0mkey2\u001b[0m \u001b[1;33m=\u001b[0m \u001b[1;34m\"2\"\u001b[0m\u001b[1;33m)\u001b[0m\u001b[1;33m\u001b[0m\u001b[1;33m\u001b[0m\u001b[0m\n\u001b[0;32m      5\u001b[0m \u001b[0mdict_p2\u001b[0m \u001b[1;33m=\u001b[0m \u001b[0mdict\u001b[0m\u001b[1;33m(\u001b[0m\u001b[0mkey3\u001b[0m \u001b[1;33m=\u001b[0m \u001b[1;34m\"3\"\u001b[0m\u001b[1;33m,\u001b[0m \u001b[0mkey4\u001b[0m \u001b[1;33m=\u001b[0m \u001b[1;34m\"4\"\u001b[0m\u001b[1;33m)\u001b[0m\u001b[1;33m\u001b[0m\u001b[1;33m\u001b[0m\u001b[0m\n\u001b[1;32m----> 6\u001b[1;33m \u001b[0mprint\u001b[0m\u001b[1;33m(\u001b[0m\u001b[0madder\u001b[0m\u001b[1;33m(\u001b[0m\u001b[0mdict_p\u001b[0m\u001b[1;33m)\u001b[0m\u001b[1;33m)\u001b[0m\u001b[1;33m\u001b[0m\u001b[1;33m\u001b[0m\u001b[0m\n\u001b[0m\u001b[0;32m      7\u001b[0m \u001b[0mprint\u001b[0m\u001b[1;33m(\u001b[0m\u001b[0madder\u001b[0m\u001b[1;33m(\u001b[0m\u001b[0mdict_p1\u001b[0m\u001b[1;33m,\u001b[0m \u001b[0mdict_p2\u001b[0m\u001b[1;33m)\u001b[0m\u001b[1;33m)\u001b[0m\u001b[1;33m\u001b[0m\u001b[1;33m\u001b[0m\u001b[0m\n",
      "\u001b[1;31mNameError\u001b[0m: name 'dict_p' is not defined"
     ]
    }
   ],
   "source": [
    "\"\"\" \n",
    "    If i want to passing dictionaries, I have to change some code. because dict can't use +.\n",
    "\"\"\"\n",
    "dict_p1 = dict(key1 = \"1\", key2 = \"2\")\n",
    "dict_p2 = dict(key3 = \"3\", key4 = \"4\")\n",
    "print(adder(dict_p))\n",
    "print(adder(dict_p1, dict_p2))"
   ]
  },
  {
   "cell_type": "markdown",
   "metadata": {},
   "source": [
    "## 4.\tDictionary. \n",
    "Write a function called ```add_dict(dict1, dict2)``` that computes the union of two dictionaries. It should return a new dictionary containing all the items in both its arguments (which are assumed to be dictionaries). If the same key appears in both arguments, feel free to pick a value from either. "
   ]
  },
  {
   "cell_type": "code",
   "execution_count": 10,
   "metadata": {},
   "outputs": [
    {
     "name": "stdout",
     "output_type": "stream",
     "text": [
      "{'key1': '1', 'key2': '2', 'key3': '3', 'key4': '4'}\n",
      "{'key3': '3', 'key4': '4', 'key2': '3', 'key5': '5'}\n",
      "{'key2': '2', 'key5': '5', 'key1': '1'}\n"
     ]
    }
   ],
   "source": [
    "def add_dict(dict1, dict2):\n",
    "    r_dic = {}\n",
    "    for i in dict1.keys():\n",
    "        r_dic[i] = dict1[i]\n",
    "    for i in dict2.keys():\n",
    "        r_dic[i] = dict2[i]\n",
    "    return r_dic\n",
    "dict_p1 = dict(key1 = \"1\", key2 = \"2\")\n",
    "dict_p2 = dict(key3 = \"3\", key4 = \"4\")\n",
    "dict_p3 = dict(key2 = \"3\", key5 = \"5\")\n",
    "\n",
    "print(add_dict(dict_p1, dict_p2))\n",
    "print(add_dict(dict_p2, dict_p3))\n",
    "print(add_dict(dict_p3, dict_p1))"
   ]
  },
  {
   "cell_type": "markdown",
   "metadata": {},
   "source": [
    "What happens if you pass lists instead of dictionaries? "
   ]
  },
  {
   "cell_type": "code",
   "execution_count": 11,
   "metadata": {},
   "outputs": [
    {
     "ename": "AttributeError",
     "evalue": "'list' object has no attribute 'keys'",
     "output_type": "error",
     "traceback": [
      "\u001b[1;31m---------------------------------------------------------------------------\u001b[0m",
      "\u001b[1;31mAttributeError\u001b[0m                            Traceback (most recent call last)",
      "\u001b[1;32m<ipython-input-11-fc9bb949676d>\u001b[0m in \u001b[0;36m<module>\u001b[1;34m\u001b[0m\n\u001b[0;32m      1\u001b[0m \u001b[0mlist_1\u001b[0m \u001b[1;33m=\u001b[0m \u001b[1;33m[\u001b[0m\u001b[1;36m1\u001b[0m\u001b[1;33m,\u001b[0m\u001b[1;36m2\u001b[0m\u001b[1;33m]\u001b[0m\u001b[1;33m\u001b[0m\u001b[1;33m\u001b[0m\u001b[0m\n\u001b[0;32m      2\u001b[0m \u001b[0mlist_2\u001b[0m \u001b[1;33m=\u001b[0m \u001b[1;33m[\u001b[0m\u001b[1;36m3\u001b[0m\u001b[1;33m,\u001b[0m\u001b[1;36m4\u001b[0m\u001b[1;33m]\u001b[0m\u001b[1;33m\u001b[0m\u001b[1;33m\u001b[0m\u001b[0m\n\u001b[1;32m----> 3\u001b[1;33m \u001b[0mprint\u001b[0m\u001b[1;33m(\u001b[0m\u001b[0madd_dict\u001b[0m\u001b[1;33m(\u001b[0m\u001b[0mlist_1\u001b[0m\u001b[1;33m,\u001b[0m \u001b[0mlist_2\u001b[0m\u001b[1;33m)\u001b[0m\u001b[1;33m)\u001b[0m\u001b[1;33m\u001b[0m\u001b[1;33m\u001b[0m\u001b[0m\n\u001b[0m\u001b[0;32m      4\u001b[0m \u001b[1;34m\"\"\"Adding dictionary is different in adding list.\"\"\"\u001b[0m\u001b[1;33m\u001b[0m\u001b[1;33m\u001b[0m\u001b[0m\n",
      "\u001b[1;32m<ipython-input-10-1b780ace112f>\u001b[0m in \u001b[0;36madd_dict\u001b[1;34m(dict1, dict2)\u001b[0m\n\u001b[0;32m      1\u001b[0m \u001b[1;32mdef\u001b[0m \u001b[0madd_dict\u001b[0m\u001b[1;33m(\u001b[0m\u001b[0mdict1\u001b[0m\u001b[1;33m,\u001b[0m \u001b[0mdict2\u001b[0m\u001b[1;33m)\u001b[0m\u001b[1;33m:\u001b[0m\u001b[1;33m\u001b[0m\u001b[1;33m\u001b[0m\u001b[0m\n\u001b[0;32m      2\u001b[0m     \u001b[0mr_dic\u001b[0m \u001b[1;33m=\u001b[0m \u001b[1;33m{\u001b[0m\u001b[1;33m}\u001b[0m\u001b[1;33m\u001b[0m\u001b[1;33m\u001b[0m\u001b[0m\n\u001b[1;32m----> 3\u001b[1;33m     \u001b[1;32mfor\u001b[0m \u001b[0mi\u001b[0m \u001b[1;32min\u001b[0m \u001b[0mdict1\u001b[0m\u001b[1;33m.\u001b[0m\u001b[0mkeys\u001b[0m\u001b[1;33m(\u001b[0m\u001b[1;33m)\u001b[0m\u001b[1;33m:\u001b[0m\u001b[1;33m\u001b[0m\u001b[1;33m\u001b[0m\u001b[0m\n\u001b[0m\u001b[0;32m      4\u001b[0m         \u001b[0mr_dic\u001b[0m\u001b[1;33m[\u001b[0m\u001b[0mi\u001b[0m\u001b[1;33m]\u001b[0m \u001b[1;33m=\u001b[0m \u001b[0mdict1\u001b[0m\u001b[1;33m[\u001b[0m\u001b[0mi\u001b[0m\u001b[1;33m]\u001b[0m\u001b[1;33m\u001b[0m\u001b[1;33m\u001b[0m\u001b[0m\n\u001b[0;32m      5\u001b[0m     \u001b[1;32mfor\u001b[0m \u001b[0mi\u001b[0m \u001b[1;32min\u001b[0m \u001b[0mdict2\u001b[0m\u001b[1;33m.\u001b[0m\u001b[0mkeys\u001b[0m\u001b[1;33m(\u001b[0m\u001b[1;33m)\u001b[0m\u001b[1;33m:\u001b[0m\u001b[1;33m\u001b[0m\u001b[1;33m\u001b[0m\u001b[0m\n",
      "\u001b[1;31mAttributeError\u001b[0m: 'list' object has no attribute 'keys'"
     ]
    }
   ],
   "source": [
    "list_1 = [1,2]\n",
    "list_2 = [3,4]\n",
    "print(add_dict(list_1, list_2))\n",
    "\"\"\"Adding dictionary is different in adding list.\"\"\""
   ]
  },
  {
   "cell_type": "markdown",
   "metadata": {},
   "source": [
    "How could you generalize(rewrite) your function to handle this case, too? (Hint: see the ```type``` built-in function used earlier.)"
   ]
  },
  {
   "cell_type": "code",
   "execution_count": 12,
   "metadata": {},
   "outputs": [
    {
     "name": "stdout",
     "output_type": "stream",
     "text": [
      "[1, 2, 3, 4]\n",
      "{'key1': '1', 'key2': '2', 'key3': '3', 'key4': '4'}\n"
     ]
    }
   ],
   "source": [
    "def add_dict(*arg1):\n",
    "    if type(arg1[0]) == list:\n",
    "        r_val = arg1[0]\n",
    "        for i in range(1,len(arg1)):\n",
    "            r_val = r_val +arg1[i]\n",
    "        return r_val\n",
    "    elif type(arg1[0]) == dict:\n",
    "        r_dic = {}\n",
    "        for n_dict in arg1:\n",
    "            for n_key in n_dict.keys():\n",
    "                r_dic[n_key] = n_dict[n_key]\n",
    "        return r_dic\n",
    "dict_p1 = dict(key1 = \"1\", key2 = \"2\")\n",
    "dict_p2 = dict(key3 = \"3\", key4 = \"4\")\n",
    "dict_p3 = dict(key2 = \"3\", key5 = \"5\")\n",
    "\n",
    "list_1 = [1,2]\n",
    "list_2 = [3,4]\n",
    "\n",
    "print(add_dict(list_1, list_2))\n",
    "print(add_dict(dict_p1, dict_p2))"
   ]
  },
  {
   "cell_type": "markdown",
   "metadata": {},
   "source": [
    "## 5.\tComputing factorials. \n",
    "N!, is computed as N*(N-1)*(N-2)*...1. For instance, 6! is 6*5*4*3*2*1, or 720. Write a recursive function ```fact1(N)``` and an iterative function ```fact2(N)```. (Note: 0! == 0)"
   ]
  },
  {
   "cell_type": "code",
   "execution_count": 13,
   "metadata": {},
   "outputs": [
    {
     "name": "stdout",
     "output_type": "stream",
     "text": [
      "fact1(5), fact2(6) 120 720\n",
      "fact1(1), fact2(0) 1 0\n",
      "fact1(0), fact2(1) 0 1\n"
     ]
    }
   ],
   "source": [
    "\"\"\"Question for Question.\n",
    "   Isn't it 0! == 1?\n",
    "   But i just do what question do.\"\"\"\n",
    "def fact1(N):\n",
    "    if N == 0:\n",
    "        return 0\n",
    "    elif N == 1:\n",
    "        return 1\n",
    "    else:\n",
    "        return N * fact1(N-1)\n",
    "    \n",
    "def fact2(N):\n",
    "    if N == 0:\n",
    "        return 0\n",
    "    else:\n",
    "        r_val = 1\n",
    "        for i in range(1,N+1):\n",
    "            r_val = r_val * i\n",
    "        return r_val\n",
    "print(\"fact1(5), fact2(6)\", fact1(5), fact2(6))\n",
    "print(\"fact1(1), fact2(0)\", fact1(1), fact2(0))\n",
    "print(\"fact1(0), fact2(1)\", fact1(0), fact2(1))\n"
   ]
  }
 ],
 "metadata": {
  "kernelspec": {
   "display_name": "Python 3",
   "language": "python",
   "name": "python3"
  },
  "language_info": {
   "codemirror_mode": {
    "name": "ipython",
    "version": 3
   },
   "file_extension": ".py",
   "mimetype": "text/x-python",
   "name": "python",
   "nbconvert_exporter": "python",
   "pygments_lexer": "ipython3",
   "version": "3.7.6"
  }
 },
 "nbformat": 4,
 "nbformat_minor": 2
}
